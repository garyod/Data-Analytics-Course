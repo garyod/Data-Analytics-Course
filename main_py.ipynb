{
 "cells": [
  {
   "cell_type": "code",
   "execution_count": 143,
   "id": "aa3e9e52",
   "metadata": {},
   "outputs": [
    {
     "data": {
      "text/html": [
       "<div>\n",
       "<style scoped>\n",
       "    .dataframe tbody tr th:only-of-type {\n",
       "        vertical-align: middle;\n",
       "    }\n",
       "\n",
       "    .dataframe tbody tr th {\n",
       "        vertical-align: top;\n",
       "    }\n",
       "\n",
       "    .dataframe thead th {\n",
       "        text-align: right;\n",
       "    }\n",
       "</style>\n",
       "<table border=\"1\" class=\"dataframe\">\n",
       "  <thead>\n",
       "    <tr style=\"text-align: right;\">\n",
       "      <th></th>\n",
       "      <th>Location</th>\n",
       "      <th>Variant</th>\n",
       "      <th>Time</th>\n",
       "      <th>TPopulation1Jan</th>\n",
       "      <th>TPopulation1July</th>\n",
       "    </tr>\n",
       "  </thead>\n",
       "  <tbody>\n",
       "    <tr>\n",
       "      <th>0</th>\n",
       "      <td>World</td>\n",
       "      <td>Medium</td>\n",
       "      <td>1950</td>\n",
       "      <td>2477674732</td>\n",
       "      <td>2.499322e+09</td>\n",
       "    </tr>\n",
       "    <tr>\n",
       "      <th>1</th>\n",
       "      <td>World</td>\n",
       "      <td>Medium</td>\n",
       "      <td>1951</td>\n",
       "      <td>2520969582</td>\n",
       "      <td>2.543130e+09</td>\n",
       "    </tr>\n",
       "    <tr>\n",
       "      <th>2</th>\n",
       "      <td>World</td>\n",
       "      <td>Medium</td>\n",
       "      <td>1952</td>\n",
       "      <td>2565291179</td>\n",
       "      <td>2.590271e+09</td>\n",
       "    </tr>\n",
       "    <tr>\n",
       "      <th>3</th>\n",
       "      <td>World</td>\n",
       "      <td>Medium</td>\n",
       "      <td>1953</td>\n",
       "      <td>2615250618</td>\n",
       "      <td>2.640279e+09</td>\n",
       "    </tr>\n",
       "    <tr>\n",
       "      <th>4</th>\n",
       "      <td>World</td>\n",
       "      <td>Medium</td>\n",
       "      <td>1954</td>\n",
       "      <td>2665306975</td>\n",
       "      <td>2.691979e+09</td>\n",
       "    </tr>\n",
       "    <tr>\n",
       "      <th>5</th>\n",
       "      <td>World</td>\n",
       "      <td>Medium</td>\n",
       "      <td>1955</td>\n",
       "      <td>2718651703</td>\n",
       "      <td>2.746072e+09</td>\n",
       "    </tr>\n",
       "    <tr>\n",
       "      <th>6</th>\n",
       "      <td>World</td>\n",
       "      <td>Medium</td>\n",
       "      <td>1956</td>\n",
       "      <td>2773492579</td>\n",
       "      <td>2.801003e+09</td>\n",
       "    </tr>\n",
       "    <tr>\n",
       "      <th>7</th>\n",
       "      <td>World</td>\n",
       "      <td>Medium</td>\n",
       "      <td>1957</td>\n",
       "      <td>2828512683</td>\n",
       "      <td>2.857867e+09</td>\n",
       "    </tr>\n",
       "    <tr>\n",
       "      <th>8</th>\n",
       "      <td>World</td>\n",
       "      <td>Medium</td>\n",
       "      <td>1958</td>\n",
       "      <td>2887221030</td>\n",
       "      <td>2.916108e+09</td>\n",
       "    </tr>\n",
       "    <tr>\n",
       "      <th>9</th>\n",
       "      <td>World</td>\n",
       "      <td>Medium</td>\n",
       "      <td>1959</td>\n",
       "      <td>2944995164</td>\n",
       "      <td>2.970292e+09</td>\n",
       "    </tr>\n",
       "  </tbody>\n",
       "</table>\n",
       "</div>"
      ],
      "text/plain": [
       "  Location Variant  Time  TPopulation1Jan  TPopulation1July\n",
       "0    World  Medium  1950       2477674732      2.499322e+09\n",
       "1    World  Medium  1951       2520969582      2.543130e+09\n",
       "2    World  Medium  1952       2565291179      2.590271e+09\n",
       "3    World  Medium  1953       2615250618      2.640279e+09\n",
       "4    World  Medium  1954       2665306975      2.691979e+09\n",
       "5    World  Medium  1955       2718651703      2.746072e+09\n",
       "6    World  Medium  1956       2773492579      2.801003e+09\n",
       "7    World  Medium  1957       2828512683      2.857867e+09\n",
       "8    World  Medium  1958       2887221030      2.916108e+09\n",
       "9    World  Medium  1959       2944995164      2.970292e+09"
      ]
     },
     "metadata": {},
     "output_type": "display_data"
    }
   ],
   "source": [
    "import numpy as np\n",
    "import pandas as pd\n",
    "import matplotlib.pyplot as plt\n",
    "import seaborn as sns\n",
    "\n",
    "# Importing the first dataset by url from my GitHub\n",
    "population_url = 'https://raw.githubusercontent.com/garyod/UCDPA_Gary_ODonoghue/main/world_pop_1950_2100.csv'\n",
    "population_data = pd.read_csv(population_url)\n",
    "\n",
    "# Printing the first 10 rows to make sure it imported correctly\n",
    "display(population_data.head(10))\n",
    "\n",
    "\n"
   ]
  },
  {
   "cell_type": "code",
   "execution_count": 144,
   "id": "87cfddb9",
   "metadata": {
    "scrolled": false
   },
   "outputs": [
    {
     "data": {
      "text/html": [
       "<div>\n",
       "<style scoped>\n",
       "    .dataframe tbody tr th:only-of-type {\n",
       "        vertical-align: middle;\n",
       "    }\n",
       "\n",
       "    .dataframe tbody tr th {\n",
       "        vertical-align: top;\n",
       "    }\n",
       "\n",
       "    .dataframe thead th {\n",
       "        text-align: right;\n",
       "    }\n",
       "</style>\n",
       "<table border=\"1\" class=\"dataframe\">\n",
       "  <thead>\n",
       "    <tr style=\"text-align: right;\">\n",
       "      <th></th>\n",
       "      <th>Year</th>\n",
       "      <th>Passengers divided by 1 Billion</th>\n",
       "      <th>Domestic</th>\n",
       "      <th>International</th>\n",
       "    </tr>\n",
       "  </thead>\n",
       "  <tbody>\n",
       "    <tr>\n",
       "      <th>0</th>\n",
       "      <td>1980</td>\n",
       "      <td>0.793</td>\n",
       "      <td>0.629</td>\n",
       "      <td>0.163</td>\n",
       "    </tr>\n",
       "    <tr>\n",
       "      <th>1</th>\n",
       "      <td>1981</td>\n",
       "      <td>0.797</td>\n",
       "      <td>0.624</td>\n",
       "      <td>0.173</td>\n",
       "    </tr>\n",
       "    <tr>\n",
       "      <th>2</th>\n",
       "      <td>1982</td>\n",
       "      <td>0.811</td>\n",
       "      <td>0.641</td>\n",
       "      <td>0.170</td>\n",
       "    </tr>\n",
       "    <tr>\n",
       "      <th>3</th>\n",
       "      <td>1983</td>\n",
       "      <td>0.845</td>\n",
       "      <td>0.672</td>\n",
       "      <td>0.173</td>\n",
       "    </tr>\n",
       "    <tr>\n",
       "      <th>4</th>\n",
       "      <td>1984</td>\n",
       "      <td>0.898</td>\n",
       "      <td>0.714</td>\n",
       "      <td>0.185</td>\n",
       "    </tr>\n",
       "    <tr>\n",
       "      <th>5</th>\n",
       "      <td>1985</td>\n",
       "      <td>0.952</td>\n",
       "      <td>0.758</td>\n",
       "      <td>0.194</td>\n",
       "    </tr>\n",
       "    <tr>\n",
       "      <th>6</th>\n",
       "      <td>1986</td>\n",
       "      <td>1.017</td>\n",
       "      <td>0.818</td>\n",
       "      <td>0.198</td>\n",
       "    </tr>\n",
       "    <tr>\n",
       "      <th>7</th>\n",
       "      <td>1987</td>\n",
       "      <td>1.089</td>\n",
       "      <td>0.867</td>\n",
       "      <td>0.222</td>\n",
       "    </tr>\n",
       "    <tr>\n",
       "      <th>8</th>\n",
       "      <td>1988</td>\n",
       "      <td>1.147</td>\n",
       "      <td>0.904</td>\n",
       "      <td>0.243</td>\n",
       "    </tr>\n",
       "    <tr>\n",
       "      <th>9</th>\n",
       "      <td>1989</td>\n",
       "      <td>1.186</td>\n",
       "      <td>0.924</td>\n",
       "      <td>0.262</td>\n",
       "    </tr>\n",
       "  </tbody>\n",
       "</table>\n",
       "</div>"
      ],
      "text/plain": [
       "   Year  Passengers divided by 1 Billion  Domestic  International\n",
       "0  1980                            0.793     0.629          0.163\n",
       "1  1981                            0.797     0.624          0.173\n",
       "2  1982                            0.811     0.641          0.170\n",
       "3  1983                            0.845     0.672          0.173\n",
       "4  1984                            0.898     0.714          0.185\n",
       "5  1985                            0.952     0.758          0.194\n",
       "6  1986                            1.017     0.818          0.198\n",
       "7  1987                            1.089     0.867          0.222\n",
       "8  1988                            1.147     0.904          0.243\n",
       "9  1989                            1.186     0.924          0.262"
      ]
     },
     "metadata": {},
     "output_type": "display_data"
    }
   ],
   "source": [
    "# Importing the second dataset by url from my GitHub\n",
    "passenger_url = 'https://raw.githubusercontent.com/garyod/UCDPA_Gary_ODonoghue/main/Passengers.csv'\n",
    "passenger_data = pd.read_csv(passenger_url)\n",
    "\n",
    "# Printing the first 10 rows to make sure it imported correctly\n",
    "display(passenger_data.head(10))\n",
    "\n"
   ]
  },
  {
   "cell_type": "code",
   "execution_count": 145,
   "id": "fc3675f6",
   "metadata": {},
   "outputs": [],
   "source": [
    "# Now I am going to sort out the data of the first dataset, population. "
   ]
  },
  {
   "cell_type": "code",
   "execution_count": 146,
   "id": "8a1d464b",
   "metadata": {},
   "outputs": [
    {
     "name": "stdout",
     "output_type": "stream",
     "text": [
      "   Time  TPopulation1Jan\n",
      "0  1950       2477674732\n",
      "1  1951       2520969582\n",
      "2  1952       2565291179\n",
      "3  1953       2615250618\n",
      "4  1954       2665306975\n"
     ]
    }
   ],
   "source": [
    "population_data = pd.read_csv(population_url)\n",
    "\n",
    "# Drop uneeded columns using .loc from the population dataset, I will take the the population date from the 1st Jan and drop the other column\n",
    "selected_cols = ['Time', 'TPopulation1Jan']\n",
    "population_data = population_data.loc[:, selected_cols]\n",
    "\n",
    "# Printing to make sure it is correct\n",
    "print(population_data.head(5))"
   ]
  },
  {
   "cell_type": "code",
   "execution_count": 147,
   "id": "6ca480f8",
   "metadata": {},
   "outputs": [
    {
     "name": "stdout",
     "output_type": "stream",
     "text": [
      "(152, 2)\n",
      "Time               int64\n",
      "TPopulation1Jan    int64\n",
      "dtype: object\n"
     ]
    }
   ],
   "source": [
    "# Check shape and type of the population dataset\n",
    "print(population_data.shape)    \n",
    "print(population_data.dtypes)  \n",
    "\n"
   ]
  },
  {
   "cell_type": "code",
   "execution_count": 148,
   "id": "fcc4c346",
   "metadata": {},
   "outputs": [
    {
     "name": "stdout",
     "output_type": "stream",
     "text": [
      "Time                 int64\n",
      "TPopulation1Jan    float64\n",
      "dtype: object\n"
     ]
    }
   ],
   "source": [
    "# Change population to float to avoid any decimal place issues later on\n",
    "population_data['TPopulation1Jan'] = population_data['TPopulation1Jan'].astype('float64')\n",
    "\n",
    "# Check type to confirm changes\n",
    "print(population_data.dtypes)  "
   ]
  },
  {
   "cell_type": "code",
   "execution_count": 149,
   "id": "a93c7087",
   "metadata": {},
   "outputs": [
    {
     "name": "stdout",
     "output_type": "stream",
     "text": [
      "   Year  Total Population\n",
      "0  1980              4.40\n",
      "1  1981              4.48\n",
      "2  1982              4.57\n",
      "3  1983              4.65\n",
      "4  1984              4.73\n",
      "(41, 2)\n"
     ]
    }
   ],
   "source": [
    "# Change name of population column for better readability\n",
    "population_data = population_data.rename(columns={'TPopulation1Jan': 'Total Population'})\n",
    "\n",
    "# Change name of Time column to year to allign with the second dataset\n",
    "population_data = population_data.rename(columns={'Time': 'Year'})\n",
    "\n",
    "# Allign Year ranges with second dataset\n",
    "population_data = population_data[(population_data['Year'] >= 1980) & (population_data['Year'] <= 2020)]\n",
    "\n",
    "# Reset the row index of the DataFrame so as the first row is not goint to be indexed as row 30\n",
    "population_data.reset_index(drop=True, inplace=True)\n",
    "\n",
    "# Divide the population column by a billion and round to 2 decimal places for easier legibility of the graphs later on\n",
    "population_data['Total Population'] = (population_data['Total Population'] / 1_000_000_000).round(2)\n",
    " \n",
    "# Print to make sure it is correct\n",
    "print(population_data.head(5))\n",
    "\n",
    "# Check shape of the population dataset to confirm\n",
    "print(population_data.shape)  "
   ]
  },
  {
   "cell_type": "code",
   "execution_count": 150,
   "id": "25a950dd",
   "metadata": {},
   "outputs": [],
   "source": [
    "# Now I am going to sort out the data of the second dataset, passengers. "
   ]
  },
  {
   "cell_type": "code",
   "execution_count": 151,
   "id": "0648ec54",
   "metadata": {},
   "outputs": [
    {
     "name": "stdout",
     "output_type": "stream",
     "text": [
      "   Year  Passengers divided by 1 Billion\n",
      "0  1980                             0.79\n",
      "1  1981                             0.80\n",
      "2  1982                             0.81\n",
      "3  1983                             0.84\n",
      "4  1984                             0.90\n"
     ]
    }
   ],
   "source": [
    "passenger_data = pd.read_csv(passenger_url)\n",
    "\n",
    "# Drop uneeded columns using .loc from the population dataset, I will take the the population date from the 1st Jan and drop the other column\n",
    "selected_cols = ['Year', 'Passengers divided by 1 Billion']\n",
    "passenger_data = passenger_data.loc[:, selected_cols]\n",
    "\n",
    "# Round to 2 decimal places to allign with the population dataset\n",
    "passenger_data['Passengers divided by 1 Billion'] = (passenger_data['Passengers divided by 1 Billion']).round(2)\n",
    "\n",
    "# Printing to make sure it is correct\n",
    "print(passenger_data.head(5))"
   ]
  },
  {
   "cell_type": "code",
   "execution_count": 152,
   "id": "0cdcb485",
   "metadata": {},
   "outputs": [
    {
     "name": "stdout",
     "output_type": "stream",
     "text": [
      "(41, 2)\n",
      "Year                                object\n",
      "Passengers divided by 1 Billion    float64\n",
      "dtype: object\n"
     ]
    }
   ],
   "source": [
    "# Check shape and type of the passenger dataset\n",
    "print(passenger_data.shape)    \n",
    "print(passenger_data.dtypes)  \n"
   ]
  },
  {
   "cell_type": "code",
   "execution_count": 153,
   "id": "6cc757cb",
   "metadata": {},
   "outputs": [],
   "source": [
    "# As I got an error trying to convert the Year column to int64 it appears 2 of the Years have added characters causing the error\n",
    "# The years 2019 and 2020 are wrongly named 2019* and 2020* and will have to be renamed to remove the asterisks\n",
    "passenger_data['Year'] = passenger_data['Year'].replace({'2019*': '2019', '2020*': '2020'})"
   ]
  },
  {
   "cell_type": "code",
   "execution_count": 154,
   "id": "867ca44f",
   "metadata": {},
   "outputs": [
    {
     "name": "stdout",
     "output_type": "stream",
     "text": [
      "Year                                 int64\n",
      "Passengers divided by 1 Billion    float64\n",
      "dtype: object\n",
      "   Year  Passengers divided by 1 Billion\n",
      "0  1980                             0.79\n",
      "1  1981                             0.80\n",
      "2  1982                             0.81\n",
      "3  1983                             0.84\n",
      "4  1984                             0.90\n"
     ]
    }
   ],
   "source": [
    "# Convert the Year column to int64\n",
    "passenger_data['Year'] = passenger_data['Year'].astype('int64')\n",
    "\n",
    "# Print types to confirm changes\n",
    "print(passenger_data.dtypes) \n",
    "print(passenger_data.head(5))"
   ]
  },
  {
   "cell_type": "code",
   "execution_count": 155,
   "id": "8cef3d87",
   "metadata": {},
   "outputs": [
    {
     "data": {
      "text/html": [
       "<div>\n",
       "<style scoped>\n",
       "    .dataframe tbody tr th:only-of-type {\n",
       "        vertical-align: middle;\n",
       "    }\n",
       "\n",
       "    .dataframe tbody tr th {\n",
       "        vertical-align: top;\n",
       "    }\n",
       "\n",
       "    .dataframe thead th {\n",
       "        text-align: right;\n",
       "    }\n",
       "</style>\n",
       "<table border=\"1\" class=\"dataframe\">\n",
       "  <thead>\n",
       "    <tr style=\"text-align: right;\">\n",
       "      <th></th>\n",
       "      <th>Year</th>\n",
       "      <th>Passengers divided by 1 Billion</th>\n",
       "      <th>Total Population</th>\n",
       "    </tr>\n",
       "  </thead>\n",
       "  <tbody>\n",
       "    <tr>\n",
       "      <th>0</th>\n",
       "      <td>1980</td>\n",
       "      <td>0.79</td>\n",
       "      <td>4.40</td>\n",
       "    </tr>\n",
       "    <tr>\n",
       "      <th>1</th>\n",
       "      <td>1981</td>\n",
       "      <td>0.80</td>\n",
       "      <td>4.48</td>\n",
       "    </tr>\n",
       "    <tr>\n",
       "      <th>2</th>\n",
       "      <td>1982</td>\n",
       "      <td>0.81</td>\n",
       "      <td>4.57</td>\n",
       "    </tr>\n",
       "    <tr>\n",
       "      <th>3</th>\n",
       "      <td>1983</td>\n",
       "      <td>0.84</td>\n",
       "      <td>4.65</td>\n",
       "    </tr>\n",
       "    <tr>\n",
       "      <th>4</th>\n",
       "      <td>1984</td>\n",
       "      <td>0.90</td>\n",
       "      <td>4.73</td>\n",
       "    </tr>\n",
       "    <tr>\n",
       "      <th>5</th>\n",
       "      <td>1985</td>\n",
       "      <td>0.95</td>\n",
       "      <td>4.82</td>\n",
       "    </tr>\n",
       "    <tr>\n",
       "      <th>6</th>\n",
       "      <td>1986</td>\n",
       "      <td>1.02</td>\n",
       "      <td>4.91</td>\n",
       "    </tr>\n",
       "    <tr>\n",
       "      <th>7</th>\n",
       "      <td>1987</td>\n",
       "      <td>1.09</td>\n",
       "      <td>5.00</td>\n",
       "    </tr>\n",
       "    <tr>\n",
       "      <th>8</th>\n",
       "      <td>1988</td>\n",
       "      <td>1.15</td>\n",
       "      <td>5.09</td>\n",
       "    </tr>\n",
       "    <tr>\n",
       "      <th>9</th>\n",
       "      <td>1989</td>\n",
       "      <td>1.19</td>\n",
       "      <td>5.18</td>\n",
       "    </tr>\n",
       "  </tbody>\n",
       "</table>\n",
       "</div>"
      ],
      "text/plain": [
       "   Year  Passengers divided by 1 Billion  Total Population\n",
       "0  1980                             0.79              4.40\n",
       "1  1981                             0.80              4.48\n",
       "2  1982                             0.81              4.57\n",
       "3  1983                             0.84              4.65\n",
       "4  1984                             0.90              4.73\n",
       "5  1985                             0.95              4.82\n",
       "6  1986                             1.02              4.91\n",
       "7  1987                             1.09              5.00\n",
       "8  1988                             1.15              5.09\n",
       "9  1989                             1.19              5.18"
      ]
     },
     "metadata": {},
     "output_type": "display_data"
    }
   ],
   "source": [
    "# Now I will merge the datasets\n",
    "merged_data = passenger_data.merge(population_data, on='Year', how='outer')\n",
    "\n",
    "display(merged_data.head(10))"
   ]
  },
  {
   "cell_type": "code",
   "execution_count": 156,
   "id": "ff5f7b9d",
   "metadata": {},
   "outputs": [
    {
     "data": {
      "image/png": "[encoded data removed]",
      "text/plain": [
       "<Figure size 640x480 with 1 Axes>"
      ]
     },
     "metadata": {},
     "output_type": "display_data"
    }
   ],
   "source": [
    "# Now I will plot the data\n",
    "\n",
    "# Create a Figure and axis\n",
    "fig, ax = plt.subplots()\n",
    "\n",
    "# Set the x-axis to be the Year column\n",
    "x = merged_data['Year']\n",
    "\n",
    "# Set the y-axis to be the range of 1 to 10\n",
    "y = range(1, 11)\n",
    "\n",
    "# Plot the Passengers divided by 1 Billion column against the Year column\n",
    "ax.plot(x, merged_data['Passengers divided by 1 Billion'], label='Yearly Passengers')\n",
    "\n",
    "# Plot the Total Population column against the Year column\n",
    "ax.plot(x, merged_data['Total Population'], label='Total Population')\n",
    "\n",
    "# Set the x-axis label\n",
    "ax.set_xlabel('Year')\n",
    "\n",
    "# Set the y-axis label\n",
    "ax.set_ylabel('People x 1 Billion')\n",
    "\n",
    "# Set the title of the plot\n",
    "ax.set_title('Passengers and Population over time')\n",
    "\n",
    "# Add a legend to the plot\n",
    "ax.legend()\n",
    "\n",
    "# Use for loop to rotate X-Axis labels for legibility \n",
    "for tick in ax.get_xticklabels():\n",
    "    tick.set_rotation(90)\n",
    "\n",
    "# Show the plot\n",
    "plt.show()"
   ]
  },
  {
   "cell_type": "code",
   "execution_count": 158,
   "id": "098c35a6",
   "metadata": {
    "scrolled": false
   },
   "outputs": [
    {
     "data": {
      "image/png": "[encoded data removed]",
      "text/plain": [
       "<Figure size 640x480 with 1 Axes>"
      ]
     },
     "metadata": {},
     "output_type": "display_data"
    }
   ],
   "source": [
    "# Create a figure and axis object\n",
    "fig, ax = plt.subplots()\n",
    "\n",
    "# Group the data by 5 Year intervals and calculate the mean\n",
    "merged_data['Year_Group'] = pd.cut(merged_data['Year'], bins=np.arange(1980, 2025, 5))\n",
    "merged_data_grouped = merged_data.groupby('Year_Group').mean()\n",
    "\n",
    "# Set the x-axis to be the year intervals\n",
    "x = np.arange(1981, 2021, 5)\n",
    "\n",
    "# Set the width of the bars\n",
    "width = 2.00\n",
    "\n",
    "# Set the position of the bars on the x-axis\n",
    "pos1 = x - width/2\n",
    "pos2 = x + width/2\n",
    "\n",
    "# Create the bars for the 'Passengers divided by 1 Billion' column\n",
    "ax.bar(pos1, merged_data_grouped['Passengers divided by 1 Billion'], width, label='Yearly Passengers')\n",
    "\n",
    "# Create the bars for the 'Total Population' column\n",
    "ax.bar(pos2, merged_data_grouped['Total Population'], width, label='Total Population')\n",
    "\n",
    "# Set the x-axis label\n",
    "ax.set_xlabel('Year')\n",
    "\n",
    "# Set the y-axis label\n",
    "ax.set_ylabel('Values')\n",
    "\n",
    "# Set the title of the plot\n",
    "ax.set_title('Passengers and Population over time')\n",
    "\n",
    "# Add a legend to the plot\n",
    "ax.legend()\n",
    "\n",
    "# Use for loop to rotate X-Axis labels for legibility \n",
    "for tick in ax.get_xticklabels():\n",
    "    tick.set_rotation(90)\n",
    "\n",
    "# display the plot\n",
    "plt.show()"
   ]
  },
  {
   "cell_type": "code",
   "execution_count": null,
   "id": "2c18c0ad",
   "metadata": {},
   "outputs": [],
   "source": []
  }
 ],
 "metadata": {
  "kernelspec": {
   "display_name": "Python 3 (ipykernel)",
   "language": "python",
   "name": "python3"
  },
  "language_info": {
   "codemirror_mode": {
    "name": "ipython",
    "version": 3
   },
   "file_extension": ".py",
   "mimetype": "text/x-python",
   "name": "python",
   "nbconvert_exporter": "python",
   "pygments_lexer": "ipython3",
   "version": "3.10.9"
  }
 },
 "nbformat": 4,
 "nbformat_minor": 5
}
